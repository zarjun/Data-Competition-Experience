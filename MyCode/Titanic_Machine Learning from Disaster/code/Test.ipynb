{
 "cells": [
  {
   "cell_type": "code",
   "execution_count": 4,
   "id": "861ec5fc",
   "metadata": {
    "scrolled": true
   },
   "outputs": [],
   "source": [
    "import numpy as np\n",
    "import pandas as pd"
   ]
  },
  {
   "cell_type": "code",
   "execution_count": 5,
   "id": "2f1d66c5",
   "metadata": {},
   "outputs": [],
   "source": [
    "#读取训练数据集\n",
    "df_total = pd.read_csv('train.csv', index_col='PassengerId')"
   ]
  },
  {
   "cell_type": "code",
   "execution_count": 6,
   "id": "cdc2e44c",
   "metadata": {},
   "outputs": [],
   "source": [
    "#选取指定特征\n",
    "df_total = df_total[['Pclass', 'Sex', 'Age', 'SibSp', 'Parch', 'Fare', 'Survived']]\n",
    "#one-hot处理\n",
    "df_total['Sex'] = df_total['Sex'].map({\n",
    "    'male': 0, 'female': 1})\n",
    "df_total = df_total.dropna()"
   ]
  },
  {
   "cell_type": "code",
   "execution_count": 7,
   "id": "b7844e0e",
   "metadata": {},
   "outputs": [],
   "source": [
    "#划分数据和标签\n",
    "X = df_total.drop('Survived', axis=1)\n",
    "y = df_total['Survived']"
   ]
  },
  {
   "cell_type": "code",
   "execution_count": 8,
   "id": "71187bac",
   "metadata": {},
   "outputs": [],
   "source": [
    "#读取测试数据\n",
    "X_test = pd.read_csv('test.csv', index_col='PassengerId')\n",
    "X_test = X_test[['Pclass', 'Sex', 'Age', 'SibSp', 'Parch', 'Fare']]\n",
    "X_test['Sex'] = X_test['Sex'].map({\n",
    "    'male': 0, 'female': 1})"
   ]
  },
  {
   "cell_type": "code",
   "execution_count": 9,
   "id": "307308c8",
   "metadata": {},
   "outputs": [],
   "source": [
    "#用列均值填充缺失数据\n",
    "X_test['Age'] = X_test['Age'].fillna(X_test['Age'].mean())\n",
    "X_test['Fare'] = X_test['Fare'].fillna(X_test['Fare'].mean())"
   ]
  },
  {
   "cell_type": "code",
   "execution_count": 12,
   "id": "b7526a6f",
   "metadata": {},
   "outputs": [
    {
     "data": {
      "text/plain": [
       "DecisionTreeClassifier(random_state=30)"
      ]
     },
     "execution_count": 12,
     "metadata": {},
     "output_type": "execute_result"
    }
   ],
   "source": [
    "#决策树\n",
    "from sklearn import tree\n",
    "model = tree.DecisionTreeClassifier(random_state=30)\n",
    "model.fit(X, y)"
   ]
  },
  {
   "cell_type": "code",
   "execution_count": 13,
   "id": "b8d0c1c1",
   "metadata": {},
   "outputs": [],
   "source": [
    "y_predict = model.predict(X_test)"
   ]
  },
  {
   "cell_type": "code",
   "execution_count": 14,
   "id": "e59f4dc0",
   "metadata": {},
   "outputs": [],
   "source": [
    "#根据模板生成提交文件\n",
    "submit = pd.concat([pd.Series(range(892,1310)),pd.Series(y_predict)], axis=1)\n",
    "submit.columns = ['PassengerId', 'Survived']\n",
    "submit = submit.set_index('PassengerId')\n",
    "submit.to_csv('my_submition.csv')"
   ]
  },
  {
   "cell_type": "code",
   "execution_count": null,
   "id": "a9088954",
   "metadata": {},
   "outputs": [],
   "source": [
    "# 代码来源：http://www.4k8k.xyz/article/weixin_39930243/111463943#6_128\n",
    "# 代码博文：从零开始，手把手，一文kaggle竞赛速度入门！ \n",
    "# 泰坦尼克_数据科学爱好者yzh-程序员资料_kaggle从0开始"
   ]
  }
 ],
 "metadata": {
  "kernelspec": {
   "display_name": "Python [conda env:py37] *",
   "language": "python",
   "name": "conda-env-py37-py"
  },
  "language_info": {
   "codemirror_mode": {
    "name": "ipython",
    "version": 3
   },
   "file_extension": ".py",
   "mimetype": "text/x-python",
   "name": "python",
   "nbconvert_exporter": "python",
   "pygments_lexer": "ipython3",
   "version": "3.7.0"
  }
 },
 "nbformat": 4,
 "nbformat_minor": 5
}
